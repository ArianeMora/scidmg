{
 "cells": [
  {
   "cell_type": "markdown",
   "metadata": {},
   "source": [
    "#  Notebook\n",
    "## Example merging DMCs and DMRs\n",
    "\n",
    "This notebook provides an example on merging files from Methylkit (DMC's) and DMRs from Methylsig.\n"
   ]
  },
  {
   "cell_type": "code",
   "execution_count": 1,
   "metadata": {
    "pycharm": {
     "name": "#%%\n"
    }
   },
   "outputs": [],
   "source": [
    "import pandas as pd\n",
    "from sciutil import SciUtil\n",
    "from scidmg import SciDMG\n",
    "import os\n",
    "data_dir = f'{os.path.dirname(os.path.realpath(\".\"))}/../../tests/data/'\n",
    "dmr_file = f'{data_dir}methylSig_prom.csv'\n",
    "dmc_file = f'{data_dir}methylKit_DMC.csv'\n",
    "percent_meth_file = f'{data_dir}methylKit_percentMeth.csv'\n",
    "\n",
    "u = SciUtil()\n"
   ]
  },
  {
   "cell_type": "markdown",
   "metadata": {},
   "source": [
    "## Inspect files\n",
    "\n",
    "Just to give you an idea of what the files as input are we print out the head of each input file.\n",
    "\n",
    "Note that each file has the same column name for the gene symbol **external_gene_name**. This will be used to merge the files.\n"
   ]
  },
  {
   "cell_type": "code",
   "execution_count": 2,
   "metadata": {
    "pycharm": {
     "name": "#%%\n"
    }
   },
   "outputs": [
    {
     "name": "stdout",
     "output_type": "stream",
     "text": [
      "\u001b[94m--------------------------------------------------------------------------------\u001b[0m\n",
      "\u001b[94m                               DMR file header:\t                                \u001b[0m\n",
      "\u001b[94m--------------------------------------------------------------------------------\u001b[0m\n",
      "   idx seqnames  start  end  gene_idx  meth_diff     uid  pvalue    fdr  \\\n",
      "0    1     chr1     10  100         1       -0.6   dmr_1   0.001  0.010   \n",
      "1    2     chr1    123  190         2       -0.1   dmr_2   0.010  0.300   \n",
      "2    3     chr1      3  200         3        0.8   dmr_3   0.010  0.010   \n",
      "3    4     chr1    123  312         4       -0.1   dmr_4   0.010  0.010   \n",
      "4    5     chr1    123  190         2       -0.1   dmr_5   0.010  0.001   \n",
      "5    6     chr1    123  190         2        0.3   dmr_6   0.010  0.010   \n",
      "6    7     chr1    123  190         2       -0.2   dmr_7   0.010  0.010   \n",
      "7    3     chr1      3  200         3       -0.9  dmr_10   0.010  0.010   \n",
      "\n",
      "   ensembl_gene_id external_gene_name chromosome_name  start_position  \\\n",
      "0  ENSG00000278267         AC114488.2            chr1               1   \n",
      "1  ENSG00000116273              PHF13            chrX               2   \n",
      "2  ENSG00000249087         ZNF436-AS1            chr3               3   \n",
      "3  ENSG00000278267         AC114488.2            chr1               1   \n",
      "4  ENSG00000116273              HOXA1            chr4               2   \n",
      "5  ENSG00000116273              HOXA1            chr4               2   \n",
      "6  ENSG00000116273              HOXB9            chr8               2   \n",
      "7  ENSG00000249087         ZNF436-AS1            chr3               3   \n",
      "\n",
      "   end_position  strand  \n",
      "0            30      -1  \n",
      "1            12       1  \n",
      "2           431       1  \n",
      "3           231       1  \n",
      "4            12       1  \n",
      "5            12       1  \n",
      "6            12       1  \n",
      "7           431       1  \n",
      "\u001b[94m--------------------------------------------------------------------------------\u001b[0m\n",
      "\u001b[94m                               DMC file header:\t                                \u001b[0m\n",
      "\u001b[94m--------------------------------------------------------------------------------\u001b[0m\n",
      "   idx   chr  start  end  gene_idx  meth.diff     uid  pvalue  qvalue  \\\n",
      "0    1  chr1      1    1         1       -0.6   dmc_1   0.001   0.010   \n",
      "1    2  chrX      1    1         2       -0.1   dmc_2   0.010   0.300   \n",
      "2    3  chr3      1    1         3        0.1   dmc_3   0.010   0.010   \n",
      "3    4  chr1      1    1         4       -0.1   dmc_4   0.010   0.010   \n",
      "4    5  chr1      1    1         5       -0.3   dmc_5   0.010   0.010   \n",
      "5    6  chr1      1    1         6        0.0   dmc_6   0.010   0.010   \n",
      "6    7  chr1      1    1         7        2.0   dmc_7   0.010   0.010   \n",
      "7    5  chr1      1    1         9       -0.1   dmc_8   0.010   0.001   \n",
      "8    3  chr3      1    1         3       -0.7  dmc_10   0.010   0.010   \n",
      "\n",
      "   ensembl_gene_id external_gene_name chromosome_name  start_position  \\\n",
      "0  ENSG00000278267         AC114488.2            chr1               1   \n",
      "1  ENSG00000116273              PHF13            chrX               2   \n",
      "2  ENSG00000249087         ZNF436-AS1            chr3               3   \n",
      "3  ENSG00000278267         AC114488.2            chr1               1   \n",
      "4  ENSG00000278267         AC114488.2            chr1               2   \n",
      "5  ENSG00000278267         AC114488.2            chr1               3   \n",
      "6  ENSG00000278267         AC114488.2            chr1               4   \n",
      "7  ENSG00000116273              HOXA1            chr4               2   \n",
      "8  ENSG00000249087         ZNF436-AS1            chr3               3   \n",
      "\n",
      "   end_position  strand  \n",
      "0             1      -1  \n",
      "1             2       1  \n",
      "2             3       1  \n",
      "3             1       1  \n",
      "4             3       1  \n",
      "5             3       1  \n",
      "6             4       1  \n",
      "7            12       1  \n",
      "8             3       1  \n",
      "\u001b[94m--------------------------------------------------------------------------------\u001b[0m\n",
      "\u001b[94m                      Percentage methylation file header:\t                      \u001b[0m\n",
      "\u001b[94m--------------------------------------------------------------------------------\u001b[0m\n",
      "   idx   chr  start  end  gene_idx     uid  WT_1  WT_2  WT_3  KO_1  KO_2  \\\n",
      "0    1  chr1      1    1         1   dmc_1  0.33  0.18  0.53  0.11  0.59   \n",
      "1    2  chrX      1    1         2   dmc_2  0.12  0.47  0.22  0.12  0.42   \n",
      "2    3  chr3      1    1         3   dmc_3  0.06  0.21  0.43  0.04  0.39   \n",
      "3    4  chr1      1    1         4   dmc_4  0.72  0.75  0.11  0.76  0.17   \n",
      "4    5  chr1      1    1         5   dmc_5  0.91  0.11  0.24  0.12  0.49   \n",
      "5    6  chr1      1    1         6   dmc_6  0.75  0.84  0.59  0.33  0.44   \n",
      "6    7  chr1      1    1         7   dmc_7  0.98  0.90  0.64  0.18  0.06   \n",
      "7    7  chr1      1    1         7   dmc_8  0.98  0.90  0.64  0.18  0.06   \n",
      "8    3  chr3      1    1         3  dmc_10  0.06  0.21  0.43  0.04  0.39   \n",
      "\n",
      "   KO_3  ensembl_gene_id external_gene_name chromosome_name  start_position  \\\n",
      "0  0.50  ENSG00000278267         AC114488.2            chr1               1   \n",
      "1  0.86  ENSG00000116273              PHF13            chrX               2   \n",
      "2  0.25  ENSG00000249087         ZNF436-AS1            chr3               3   \n",
      "3  0.89  ENSG00000278267         AC114488.2            chr1               1   \n",
      "4  0.23  ENSG00000278267         AC114488.2            chr1               2   \n",
      "5  0.73  ENSG00000278267         AC114488.2            chr1               3   \n",
      "6  0.51  ENSG00000278267         AC114488.2            chr1               4   \n",
      "7  0.51  ENSG00000116273              HOXA1            chr4               2   \n",
      "8  0.25  ENSG00000249087         ZNF436-AS1            chr3               3   \n",
      "\n",
      "   end_position  strand  \n",
      "0             1      -1  \n",
      "1             2       1  \n",
      "2             3       1  \n",
      "3             1       1  \n",
      "4             3       1  \n",
      "5             3       1  \n",
      "6             4       1  \n",
      "7            12       1  \n",
      "8             3       1  \n"
     ]
    }
   ],
   "source": [
    "u.dp(['DMR file header:'])\n",
    "print(pd.read_csv(dmr_file))\n",
    "\n",
    "u.dp(['DMC file header:'])\n",
    "print(pd.read_csv(dmc_file))\n",
    "\n",
    "u.dp(['Percentage methylation file header:'])\n",
    "print(pd.read_csv(percent_meth_file))\n"
   ]
  },
  {
   "cell_type": "markdown",
   "metadata": {},
   "source": [
    "## Override the default parameters\n",
    "\n",
    "Here we just show how some of the parameters can be overridden.\n",
    "\n",
    "For example, we have made this a bit stricter than the defaults and required a cutoff for DMC's of 0.05.\n",
    "\n",
    "We also make the DMRs have at least 70% of DMCs in agreement of direction.\n"
   ]
  },
  {
   "cell_type": "code",
   "execution_count": 3,
   "metadata": {},
   "outputs": [
    {
     "name": "stdout",
     "output_type": "stream",
     "text": [
      "\u001b[93m--------------------------------------------------------------------------------\u001b[0m\n",
      "\u001b[93m              Please run dmg.run() before plotting the volcanos.\t               \u001b[0m\n",
      "\u001b[93m--------------------------------------------------------------------------------\u001b[0m\n",
      "\u001b[93m--------------------------------------------------------------------------------\u001b[0m\n",
      "\u001b[93m              Please run dmg.run() before plotting the volcanos.\t               \u001b[0m\n",
      "\u001b[93m--------------------------------------------------------------------------------\u001b[0m\n",
      "\u001b[93m--------------------------------------------------------------------------------\u001b[0m\n",
      "\u001b[93mWARNING: Running merge_dmc_perc_meth which assumes that you have run the DMC analysis using MethylKit.\t\u001b[0m\n",
      "\u001b[93m--------------------------------------------------------------------------------\u001b[0m\n",
      "\u001b[94m--------------------------------------------------------------------------------\u001b[0m\n",
      "\u001b[94m                  Length of all merged methylation data: \t16\t                   \u001b[0m\n",
      "\u001b[94m--------------------------------------------------------------------------------\u001b[0m\n",
      "\u001b[94m--------------------------------------------------------------------------------\u001b[0m\n",
      "\u001b[94m            Length of merged methylation data grouped by region: \t6\t            \u001b[0m\n",
      "\u001b[94m--------------------------------------------------------------------------------\u001b[0m\n",
      "\u001b[94m--------------------------------------------------------------------------------\u001b[0m\n",
      "\u001b[94m                Number of CpGs to keep based on the regions: \t2\t                \u001b[0m\n",
      "\u001b[94m--------------------------------------------------------------------------------\u001b[0m\n",
      "\u001b[94m--------------------------------------------------------------------------------\u001b[0m\n",
      "\u001b[94mLength of filtered methylation dataframe: \t3\t\n",
      "Number of genes with Methylation:\t2\t\u001b[0m\n",
      "\u001b[94m--------------------------------------------------------------------------------\u001b[0m\n",
      "\u001b[94m--------------------------------------------------------------------------------\u001b[0m\n",
      "\u001b[94m                 Dropping any genes with disagreeing DMRs: \t0\t                  \u001b[0m\n",
      "\u001b[94m--------------------------------------------------------------------------------\u001b[0m\n",
      "\u001b[94m--------------------------------------------------------------------------------\u001b[0m\n",
      "\u001b[94m     Length of dataframe filtered to only keep top DMC mapped to genes:\t2\t      \u001b[0m\n",
      "\u001b[94m--------------------------------------------------------------------------------\u001b[0m\n",
      "\u001b[94m--------------------------------------------------------------------------------\u001b[0m\n",
      "\u001b[94m                               Printing stats: \t                                \u001b[0m\n",
      "\u001b[94m--------------------------------------------------------------------------------\u001b[0m\n",
      "Length grouped by DMRs 6\n",
      "Number of CpGs to keep from grouped DMRs 2\n",
      "Length of merged DMR and DMC 16\n",
      "Length grouped by Genes 2\n",
      "Number of Genes with DMRs that disagree in direction 0\n"
     ]
    }
   ],
   "source": [
    "dmg = SciDMG(dmr_file, percent_meth_file, dmc_file,\n",
    "           dmc_methdiff=\"meth.diff\", dmc_padj=\"qvalue\", dmc_uid=\"uid\", dmc_padj_cutoff=0.05,\n",
    "           dmr_methdiff=\"meth_diff\", dmr_padj=\"fdr\", dmr_uid=\"uid\", dmr_padj_cutoff=0.1,\n",
    "            min_perc_agreement=0.7, min_meth_diff=0.1, plot=True\n",
    "        )\n",
    "dmg.run()\n",
    "dmg.print_stats()"
   ]
  },
  {
   "cell_type": "markdown",
   "metadata": {},
   "source": [
    "## Plot volcanos\n",
    "\n",
    "We may want to inspect our files as well, so we can plkot a volcano of the DMcs and the DMRs."
   ]
  },
  {
   "cell_type": "code",
   "execution_count": 4,
   "metadata": {
    "pycharm": {
     "name": "#%%\n"
    }
   },
   "outputs": [
    {
     "name": "stdout",
     "output_type": "stream",
     "text": [
      "\u001b[93m--------------------------------------------------------------------------------\u001b[0m\n",
      "\u001b[93mNo offset was provided, setting offset to be smallest value recorded in dataset: \t0.01\t\u001b[0m\n",
      "\u001b[93m--------------------------------------------------------------------------------\u001b[0m\n"
     ]
    },
    {
     "data": {
      "image/png": "[encoded data removed]",
      "text/plain": [
       "<Figure size 216x216 with 1 Axes>"
      ]
     },
     "metadata": {},
     "output_type": "display_data"
    },
    {
     "name": "stdout",
     "output_type": "stream",
     "text": [
      "\u001b[93m--------------------------------------------------------------------------------\u001b[0m\n",
      "\u001b[93mNo offset was provided, setting offset to be smallest value recorded in dataset: \t0.01\t\u001b[0m\n",
      "\u001b[93m--------------------------------------------------------------------------------\u001b[0m\n"
     ]
    },
    {
     "data": {
      "image/png": "[encoded data removed]",
      "text/plain": [
       "<Figure size 216x216 with 1 Axes>"
      ]
     },
     "metadata": {},
     "output_type": "display_data"
    }
   ],
   "source": [
    "dmg.plot_dmc_volcano()\n",
    "dmg.plot_dmr_volcano()\n"
   ]
  }
 ],
 "metadata": {
  "kernelspec": {
   "display_name": "Python 3",
   "language": "python",
   "name": "python3"
  },
  "language_info": {
   "codemirror_mode": {
    "name": "ipython",
    "version": 3
   },
   "file_extension": ".py",
   "mimetype": "text/x-python",
   "name": "python",
   "nbconvert_exporter": "python",
   "pygments_lexer": "ipython3",
   "version": "3.8.2"
  },
  "pycharm": {
   "stem_cell": {
    "cell_type": "raw",
    "metadata": {
     "collapsed": false
    },
    "source": []
   }
  }
 },
 "nbformat": 4,
 "nbformat_minor": 1
}
